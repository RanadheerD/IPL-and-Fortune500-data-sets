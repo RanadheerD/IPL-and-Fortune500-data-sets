{
  "nbformat": 4,
  "nbformat_minor": 0,
  "metadata": {
    "colab": {
      "provenance": []
    },
    "kernelspec": {
      "name": "python3",
      "display_name": "Python 3"
    },
    "language_info": {
      "name": "python"
    }
  },
  "cells": [
    {
      "cell_type": "code",
      "source": [
        "import pandas as pd\n",
        "import numpy as np\n",
        "import matplotlib as plt\n",
        "df=pd.read_csv('ipl.csv')\n",
        "df.head()"
      ],
      "metadata": {
        "id": "TcYPXwdjokDS"
      },
      "execution_count": null,
      "outputs": []
    },
    {
      "cell_type": "code",
      "source": [
        "df['winner'].value_counts().head().plot(kind='barh')"
      ],
      "metadata": {
        "id": "z-nQBMxyot5Q"
      },
      "execution_count": null,
      "outputs": []
    },
    {
      "cell_type": "code",
      "source": [
        "df['team1'].value_counts()."
      ],
      "metadata": {
        "id": "o0J41PVepAn8"
      },
      "execution_count": null,
      "outputs": []
    },
    {
      "cell_type": "code",
      "source": [
        "mark=df['team1']=='Sunrisers Hyderabad'\n",
        "mark1=df['team2']=='Mumbai Indians'\n",
        "df[mark & mark1]\n"
      ],
      "metadata": {
        "id": "fXq4x5UlwmNQ"
      },
      "execution_count": null,
      "outputs": []
    },
    {
      "cell_type": "code",
      "source": [
        "(df['team1'].value_counts() + df['team2'].value_counts()).sort_values(ascending=False).plot(kind='bar')\n"
      ],
      "metadata": {
        "id": "fu2FEmXvxPbb"
      },
      "execution_count": null,
      "outputs": []
    },
    {
      "cell_type": "code",
      "source": [
        "df.drop_duplicates('Season',keep='last').sort_values('Season')[['team1','team2',]]"
      ],
      "metadata": {
        "id": "sarRtVIT30I-"
      },
      "execution_count": null,
      "outputs": []
    },
    {
      "cell_type": "code",
      "source": [
        "data1=pd.read_csv('f500.csv')\n",
        "sectors=data1.groupby('sector')\n",
        "data1.value_counts('sector')\n",
        "\n"
      ],
      "metadata": {
        "id": "m7RoE1rSLB1e"
      },
      "execution_count": null,
      "outputs": []
    },
    {
      "cell_type": "code",
      "source": [
        "sectors1=data1.sort_values('revenues',ascending=False).groupby('sector')\n",
        "sectors1.first()"
      ],
      "metadata": {
        "id": "4JTEddtEPXYD"
      },
      "execution_count": null,
      "outputs": []
    },
    {
      "cell_type": "code",
      "source": [
        "sectors1.get_group('Technology')"
      ],
      "metadata": {
        "id": "yUpEzOiWSgmC"
      },
      "execution_count": null,
      "outputs": []
    },
    {
      "cell_type": "code",
      "source": [],
      "metadata": {
        "id": "i2hM9VrHU-N5"
      },
      "execution_count": null,
      "outputs": []
    }
  ]
}